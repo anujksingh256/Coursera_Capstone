{
 "cells": [
  {
   "cell_type": "markdown",
   "metadata": {},
   "source": [
    "<center><h3>Problem :- Opening A Restaurant in New York City. </h3></center>\n",
    "\n",
    "\n",
    "\n",
    "<center><b> 1. Introduction</b> </center>\n",
    "\n",
    "<b> 1.1 Background </b>\n",
    "\n",
    "New York has been always the busiest place in USA. Being the financial capital of the country, city host several offices and working centers. Workers and employees comes from the diffrent backgrounds and ethniciy. For Business starters, this is a good situtation to start or buy a restaurant in the city. If someone knows where to open a restaurant in the city will be a beneficiary information, so that it may generate food profits. Business owners must take many factors into account of selection of the venue.\n",
    "1. Number of offices in the neighborhood\n",
    "2. crime rate in the place. \n",
    "3. Type of restaurant.\n",
    "4. Nearest landmarks\n",
    "5. Accessibility of the restaurant location.\n",
    "6. Information about other restaurants, hotels, food outlets nearby the location.\n",
    "with the goal of achiving a informative conclusion to help the business owners to take decision for the selection of restaurant venue, final Capstone will be developed on this problem.\n",
    "\n",
    "<b> 1.2 Problem\n",
    "    \n",
    "\n",
    "Data will be collected, cleaned and segmented to help determine which place will be suitable for opening a restaurant.     \n",
    "1. For neighborhood offices other restaurants we will get information from foursquare api using geolocation.\n",
    "2. Crime rate data will be colleted from https://data.cityofnewyork.us/Public-Safety/NYC-crime/qb7u-rbmr .\n",
    "Geolocation information will be incorporated with the hlp of foursquare information. To choose type of restaurant, reviews and ratings of the nearby hotels/restaurants/food outlets will be gathered from the open source database to visualize and predict the venue for restaurant opening. \n",
    "    \n",
    "    \n"
   ]
  },
  {
   "cell_type": "code",
   "execution_count": null,
   "metadata": {},
   "outputs": [],
   "source": []
  }
 ],
 "metadata": {
  "kernelspec": {
   "display_name": "Python 3",
   "language": "python",
   "name": "python3"
  },
  "language_info": {
   "codemirror_mode": {
    "name": "ipython",
    "version": 3
   },
   "file_extension": ".py",
   "mimetype": "text/x-python",
   "name": "python",
   "nbconvert_exporter": "python",
   "pygments_lexer": "ipython3",
   "version": "3.7.3"
  }
 },
 "nbformat": 4,
 "nbformat_minor": 2
}
